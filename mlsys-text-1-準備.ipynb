{
  "nbformat": 4,
  "nbformat_minor": 0,
  "metadata": {
    "colab": {
      "provenance": [],
      "toc_visible": true
    },
    "kernelspec": {
      "name": "python3",
      "display_name": "Python 3"
    },
    "gpuClass": "standard"
  },
  "cells": [
    {
      "cell_type": "markdown",
      "metadata": {
        "id": "1tORJzc5R6Tc"
      },
      "source": [
        "---\n",
        "> 道具が使えれば、半分できたも同じだ\\\n",
        "> 道具が使えなければ、できないも同じだ\n",
        "---"
      ]
    },
    {
      "cell_type": "markdown",
      "metadata": {
        "id": "GLAKmBAmQC3w"
      },
      "source": [
        "# まず注意！\n",
        "\n",
        "このファイルは編集可能ですが、編集したファイルは保存しないと消えます\n",
        "- 自分で学習内容をメモするなどの利用ができますが、編集した場合は**自分のGoogle Drive内に保存**すること\n",
        "  - 保存はファイル→保存、WindowsならCtrl+S、Macならメタ+S\n",
        "\n",
        "セルは上から順番に実行すること\n",
        "- 同じ変数を複数の目的で用いているため、順番を入れ替えると正しく動作しない\n",
        "- ノートブック内で変数名を全て変えると煩雑になり、学ぶ障害になるため敢えて変えていない\n",
        "  - 授業単元ごとノートブックをなるべく1つにしています\n",
        "- 誤って実行ボタンを押しなおしたりしないように注意すること\n",
        "\n",
        "不明な点があれば、Googleなどで検索することも大事です\n",
        "- 適切な検索キーワードを与えて素早く検索できることも重要な能力です\n",
        "- ネットの調査は無意味やら禁止やらそういう古い考えは実社会では通用しません\n",
        "  - 「おまえ、ググったな、そんなのはダメだ」と頭ごなしに否定する会社に明日はないのですから、とっとと転職すればよいのです\n",
        "- 有償版ColabはGeminiが搭載されており、問題解決において優秀なサポートを行ってくれます\n",
        "  - あらゆる生成AIは自由に使って結構です\n",
        "  - **ただし、オリジナリティを求めます。生成AIの回答そのままの場合は、大きく減点します**\n",
        "  - 偶然一致した場合も、オリジナリティが欠如していると判断します\n",
        "\n",
        "調べてでも、できるひとは結果としてできたことになり、できなかった人は理由はともかくできなかったことになり、それがそのまま、裁量判断として下るということです\n",
        "  - 試験や課題でなければ相談も問題ありません\n",
        "  - 試験においても、特に生成AIなどの利用を妨げることはありません\n",
        "\n",
        "```\n",
        "エピグラフを書くといつもエビピラフが食べたくなる\n",
        "```\n",
        "\n"
      ]
    },
    {
      "cell_type": "markdown",
      "source": [
        "# GitHubの使い方\n",
        "\n",
        "## この授業での基本的な使い方\n",
        "\n",
        "GitHubのレポジトリ、(https://github.com/keioNishi/lec-dataai/)にアクセスし、テキスト説明の中のリンクをクリックすることで直接Google Colaboratoryでテキストを開くことができる\n",
        "- ただし、そのままでは保存できない\n",
        "- Ctrl-S(Command-S)で保存しようとすると、Google Driveへのコピー保存となるので、そのままコピーとして保存し、ファイル名を「～のコピー」から修正するとよい\n",
        "- Google Driveへ保存しなければ、個人の修正内容や実行内容は保存できないため残らない\n",
        "\n",
        "ここでは、GitHubで開いて、Google Driveに保存する方法を推奨します\n",
        "\n",
        "## 個人環境にまとめて保存する場合\n",
        "- Gitの環境を入手する\n",
        "  - Linux(Ubuntu)であれば`sudo apt install git`\n",
        "  - WindowsであればGit Bashがおすすめ\n",
        "  - MacはApp StoreからXcodeまたはXcode Command Line Toolsをインストールすれば、Gitが付属している\n",
        "    - Homebrewを利用して、`brew install git`とする\n",
        " - 本来、gitは、バージョン管理や共有環境下でのソフトウェア開発などを行うツールであるが、ここでは授業のレポジトリを更新することは許されていないため、ダウンロード(個人で保有しているコピーを更新する)ために利用することになる\n",
        "- `git update`とするとことで常に最新の状態を維持できる\n",
        "  - 個人でファイルを修正している場合、修正した内容と更新内容がマージ可能であれば、マージするかどうかを選択して更新できる\n",
        "  - 基本的には、個人で保存するノートと、授業のノートを別にして、管理する方がよいであろう"
      ],
      "metadata": {
        "id": "x2H1ijX4WFag"
      }
    },
    {
      "cell_type": "markdown",
      "metadata": {
        "id": "UVeQKfzOR1W6"
      },
      "source": [
        "# Google Colaboratoryの使い方\n",
        "\n",
        "## Notebookの編集\n",
        "\n",
        "次のセルを参考に、直接編集してみよう\n",
        "- どのようにMarkdownフォーマットが記載されているかを調べて、自由に書けるようにすること\n",
        "- 実際にこのテキストを自分なりにチューニングしながら利用するとよい\n",
        "  - 別途「自分のノート」として保存すること"
      ]
    },
    {
      "cell_type": "markdown",
      "metadata": {
        "id": "yvcUlUld-qc_"
      },
      "source": [
        "## テキストセルの例\n",
        "# 見出し1\n",
        "## 見出し2\n",
        "### 見出し3\n",
        "#### 見出し4\n",
        "##### 見出し5\n",
        "###### 見出し6\n",
        "\n",
        "_イタリック_\n",
        "_Itaric_ Itaric\n",
        "\n",
        "*イタリック*\n",
        "\n",
        "__太文字__\n",
        "\n",
        "**太文字**\n",
        "\n",
        "~~訂正線~~\n",
        "\n",
        "`コード記入`\n",
        "\n",
        "通常のテキストでインデント無し\n",
        "> インデントレベル1\n",
        ">> インデントレベル2\n",
        "\n",
        "Enumerate環境(全部1.と入力しているだけ)\n",
        "1. 一つ目\n",
        "1. 二つ目\n",
        "1. 三つ目\n",
        "\n",
        "Itemize環境\n",
        "* 一つ目\n",
        "* 二つ目\n",
        "* 三つ目\n",
        "\n",
        "普通にURLを記載するとリンクになる http://www.sd.keio.ac.jp\n",
        "名前付きリンクもできる [SD工学科](http://www.sd.keio.ac.jp)\n",
        "\n",
        "数式：\n",
        "\n",
        ">$y=x^2$\n",
        "\n",
        ">$e^{i\\pi} + 1 = 0$\n",
        "\n",
        ">$e^x=\\sum_{i=0}^\\infty \\frac{1}{i!}x^i$\n",
        "\n",
        ">$\\frac{n!}{k!(n-k)!} = {n \\choose k}$\n",
        "\n",
        ">$A_{m,n} =\n",
        " \\begin{pmatrix}\n",
        "  a_{1,1} & a_{1,2} & \\cdots & a_{1,n} \\\\\n",
        "  a_{2,1} & a_{2,2} & \\cdots & a_{2,n} \\\\\n",
        "  \\vdots  & \\vdots  & \\ddots & \\vdots  \\\\\n",
        "  a_{m,1} & a_{m,2} & \\cdots & a_{m,n}\n",
        " \\end{pmatrix}$\n",
        "\n",
        "テーブル:\n",
        "```\n",
        "First column name | Second column name\n",
        "--- | ---\n",
        "Row 1, Col 1 | Row 1, Col 2\n",
        "Row 2, Col 1 | Row 2, Col 2\n",
        "```\n",
        "と書くと、次のようになる\n",
        "\n",
        "First column name | Second column name\n",
        "--- | ---\n",
        "Row 1, Col 1 | Row 1, Col 2\n",
        "Row 2, Col 1 | Row 2, Col 2\n",
        "\n",
        "'**---**'が左揃え、'**:-:**'が中揃え、'**--:**'が右揃えとなる\n",
        "\n",
        "水平線は`---`と記載する\n",
        "\n",
        "---\n",
        "\n",
        "画像も挿入できる\n",
        "\n",
        "<img src=\"http://class.west.sd.keio.ac.jp/dataai/text/AILogo.png\" width=200>"
      ]
    },
    {
      "cell_type": "markdown",
      "metadata": {
        "id": "30C6-9xdZdYN"
      },
      "source": [
        "%%html\n",
        "\n"
      ]
    },
    {
      "cell_type": "markdown",
      "metadata": {
        "id": "2sMnD6c2aK68"
      },
      "source": [
        "%%HTML\n",
        "\n",
        "<!doctype html>\n",
        "<html lang=\"ja\">\n",
        "<head>\n",
        "  <meta charset=\"UTF-8\">\n",
        "  <title>HTML Sample</title>\n",
        "  <link rel=\"stylesheet\" href=\"style.css\">\n",
        "</head>\n",
        "<body>\n",
        "  <div class=\"header\">Header領域</div>\n",
        "  <div class=\"main\">\n",
        "    <h1>見出し</h1>\n",
        "    <p>コンテンツ</p>\n",
        "  </div>\n",
        "  <div class=\"footer\">\n",
        "    <span>Footer領域</span>\n",
        "    <a href=\"#\">リンク</a>\n",
        "  </div>\n",
        "</body>\n",
        "</html>"
      ]
    },
    {
      "cell_type": "markdown",
      "metadata": {
        "id": "tOVOdnrzo1aP"
      },
      "source": [
        "## コードセルでできることを確認しよう\n",
        "コードセルでpythonコードを記載するが、それ以外にも様々できることがある\n",
        "実際に修正して実行させてみよう\n",
        "\n",
        "なお、この授業では情報処理システム、プログラミング演習で既習内容であるPythonの基本文法は説明しない\n",
        "- 変数（数値・文字列，リスト，タプル，辞書）\n",
        "- 制御構文（for，if）\n",
        "- 関数\n",
        "- クラス\n",
        "\n",
        "などについて自信がない場合は、各自復習しておくこと\n",
        "\n",
        "これらが理解できていなければ、授業内容を理解し、課題を進めることは難しいであろうい"
      ]
    },
    {
      "cell_type": "code",
      "metadata": {
        "id": "yy7wVwuACpsk",
        "outputId": "ad1ed1fd-1fe6-4df3-acc0-21b1c677211a",
        "colab": {
          "base_uri": "https://localhost:8080/"
        }
      },
      "source": [
        "#@title\n",
        "# 計算させる\n",
        "2*3+5"
      ],
      "execution_count": null,
      "outputs": [
        {
          "output_type": "execute_result",
          "data": {
            "text/plain": [
              "11"
            ]
          },
          "metadata": {},
          "execution_count": 1
        }
      ]
    },
    {
      "cell_type": "code",
      "metadata": {
        "id": "lgK2VPvPC1YI",
        "colab": {
          "base_uri": "https://localhost:8080/"
        },
        "outputId": "c6192d25-43f4-4c62-955d-b259aa693256"
      },
      "source": [
        "import time\n",
        "print(\"眠いから寝る\")\n",
        "time.sleep(5) # 5秒寝ます\n",
        "print(\"起きた！\")"
      ],
      "execution_count": 1,
      "outputs": [
        {
          "output_type": "stream",
          "name": "stdout",
          "text": [
            "眠いから寝る\n",
            "起きた！\n"
          ]
        }
      ]
    },
    {
      "cell_type": "code",
      "metadata": {
        "id": "0WnO1ufBDdU3",
        "colab": {
          "base_uri": "https://localhost:8080/"
        },
        "outputId": "a48429b9-3357-4f4f-88b6-8b349c2ba2e2"
      },
      "source": [
        "# シェルを実行する。Windowsではコマンドラインのようなものです\n",
        "!date"
      ],
      "execution_count": 2,
      "outputs": [
        {
          "output_type": "stream",
          "name": "stdout",
          "text": [
            "Mon Oct  6 03:16:12 AM UTC 2025\n"
          ]
        }
      ]
    },
    {
      "cell_type": "code",
      "metadata": {
        "id": "YB8HD_zJEDVG",
        "colab": {
          "base_uri": "https://localhost:8080/"
        },
        "outputId": "f7a07b73-f65c-4a7a-d9bb-f2e889b399fd"
      },
      "source": [
        "g"
      ],
      "execution_count": 3,
      "outputs": [
        {
          "output_type": "execute_result",
          "data": {
            "text/plain": [
              "['Googleさん太っ腹！']"
            ]
          },
          "metadata": {},
          "execution_count": 3
        }
      ]
    },
    {
      "cell_type": "code",
      "metadata": {
        "id": "ZzM0FogrEQr6",
        "colab": {
          "base_uri": "https://localhost:8080/",
          "height": 38
        },
        "outputId": "bef873ad-a6f9-4519-f688-3e9bf3b6b5e6"
      },
      "source": [
        "# ここでマジックを。htmlを直接記載できます\n",
        "%%html\n",
        "<marquee style='width: 30%; color: blue;'><b>滑るぜー</b></marquee>\n",
        "Google Chromeを使うと気持ちよく滑ります"
      ],
      "execution_count": 4,
      "outputs": [
        {
          "output_type": "display_data",
          "data": {
            "text/plain": [
              "<IPython.core.display.HTML object>"
            ],
            "text/html": [
              "<marquee style='width: 30%; color: blue;'><b>滑るぜー</b></marquee>\n",
              "Google Chromeを使うと気持ちよく滑ります\n"
            ]
          },
          "metadata": {}
        }
      ]
    },
    {
      "cell_type": "code",
      "metadata": {
        "id": "XO_WLzMQEqO6",
        "colab": {
          "base_uri": "https://localhost:8080/",
          "height": 220
        },
        "outputId": "45a18a63-b84b-48d4-9573-51bc524f16c7"
      },
      "source": [
        "# svgを受け付けるので、図形も頑張れば直接書けます。\n",
        "%%html\n",
        "<svg viewBox=\"0 0 450 400\" width=\"200\" height=\"200\">\n",
        "  <rect x=\"80\" y=\"60\" width=\"250\" height=\"250\" rx=\"20\" style=\"fill:red; stroke:black; fill-opacity:0.7\" />\n",
        "  <rect x=\"180\" y=\"110\" width=\"250\" height=\"250\" rx=\"40\" style=\"fill:blue; stroke:black; fill-opacity:0.5;\" />\n",
        "</svg>"
      ],
      "execution_count": 5,
      "outputs": [
        {
          "output_type": "display_data",
          "data": {
            "text/plain": [
              "<IPython.core.display.HTML object>"
            ],
            "text/html": [
              "<svg viewBox=\"0 0 450 400\" width=\"200\" height=\"200\">\n",
              "  <rect x=\"80\" y=\"60\" width=\"250\" height=\"250\" rx=\"20\" style=\"fill:red; stroke:black; fill-opacity:0.7\" />\n",
              "  <rect x=\"180\" y=\"110\" width=\"250\" height=\"250\" rx=\"40\" style=\"fill:blue; stroke:black; fill-opacity:0.5;\" />\n",
              "</svg>\n"
            ]
          },
          "metadata": {}
        }
      ]
    },
    {
      "cell_type": "markdown",
      "metadata": {
        "id": "9rgliJl0P-uK"
      },
      "source": [
        "エラーメッセージを確認しておくこと。例えば、0で割るような数式を入れてみると良い\n",
        "- 1/0などを実行してみよう\n",
        "\n",
        "```\n",
        "1/0\n",
        "```\n",
        "次のようなエラーが生成されるはず\n",
        "```\n",
        "ZeroDivisionError  Traceback (most recent call last)\n",
        "ZeroDivisionError: division by zero\n",
        "```"
      ]
    },
    {
      "cell_type": "code",
      "metadata": {
        "id": "zXtvPQlOFJEu",
        "colab": {
          "base_uri": "https://localhost:8080/",
          "height": 452
        },
        "outputId": "bf64e07d-6bea-402c-9a1f-99f6c04a416e"
      },
      "source": [
        "# mathplotlibを使うと、そのまま図が貼り付けられる。便利\n",
        "import numpy as np\n",
        "from matplotlib import pyplot as plt\n",
        "\n",
        "ys = 200 + np.random.randn(100) # 平均0標準偏差1の正規分布の乱数配列を100個生成\n",
        "x = [x for x in range(len(ys))] # ysが100次元なので、同じ数だけ0から99の値を持つ配列を作成\n",
        "\n",
        "plt.plot(x, ys, '-')\n",
        "plt.fill_between(x, ys, 195, where=(ys > 195), facecolor='g', alpha=0.6)\n",
        "\n",
        "plt.title(\"Fills and Alpha Example\")\n",
        "plt.show()"
      ],
      "execution_count": 6,
      "outputs": [
        {
          "output_type": "display_data",
          "data": {
            "text/plain": [
              "<Figure size 640x480 with 1 Axes>"
            ],
            "image/png": "[encoded data removed]"
          },
          "metadata": {}
        }
      ]
    },
    {
      "cell_type": "markdown",
      "metadata": {
        "id": "YNB0OiIQR6of"
      },
      "source": [
        "- ファイルは自動保存される。タイトル=ファイル名の変更も当然可能\n",
        "  - とはいえ、Ctrl+Sや、ファイルメニューの保存を選択して、明示的に保存することも忘れずに\n",
        "\n",
        "<img src=\"http://class.west.sd.keio.ac.jp/dataai/setup/setup7.png\" width=\"100%\">"
      ]
    },
    {
      "cell_type": "markdown",
      "metadata": {
        "id": "feureOpsqwNA"
      },
      "source": [
        "# 実行するときの注意点"
      ]
    },
    {
      "cell_type": "markdown",
      "metadata": {
        "id": "grL9sjRhqy0E"
      },
      "source": [
        "## 実行順序\n",
        "\n",
        "Golaboratoryの実行は、当然ですが、順番に配慮する必要があります\n",
        "\n",
        "例えば、次のような順番でセルがあったとします\n",
        "1. `a=1`\n",
        "1. `print(a)`\n",
        "1. `a=2`\n",
        "1. `print(a)`\n",
        "\n",
        "順番に実行すると、1, 2と表示されるはずです\n",
        "\n",
        "ところが、この後、2.まで戻って実行すると、2, 2と表示されます\n",
        "- 最初のa=1を飛ばして評価していますから当然ですね\n",
        "\n",
        "このように、戻って実行すると結果が変わる可能性があるので、ご注意ください\n",
        "\n",
        "また、順番を飛ばして実行しても問題が発生する場合があります\n",
        "- 先の例で、3.を飛ばすと、1, 1と表示されます\n",
        "\n",
        "下へ、下へ順番実行して幾分には問題ありませんが、飛ばしたり戻したりすると、同様の理由でエラーになったり、結果が異なったりする場合があります\n",
        "\n",
        "**戻って実行させるときは、よく注意してください**\n",
        "\n",
        "時間はあるけど、考えるのは面倒だ！という場合は、「ランタイム」から「再起動してすべて実行」などを選んで最初から実行しなおしてください\n",
        "\n",
        "**いろいろ試したい！という場合、何度も同じところを実行したいですよね**\n",
        "\n",
        "- 通常は、下へ、下へ、順番に、飛ばしさえしなければ、同じ行を繰り返し実行しても問題ないはずです\n",
        "- 同一セルの再実行も注意が必要で、例えば、どこかでaが初期化されていたとして、セルに\n",
        "```\n",
        "a = a+1\n",
        "print(a)\n",
        "```\n",
        "などと書いてあると、実行するたびに内容が変わります\n",
        "\n",
        "**実行するセルの内容に注意して、再実行したり戻ったり、飛ばしたりする必要がありますので、ご注意ください**\n",
        "\n"
      ]
    },
    {
      "cell_type": "markdown",
      "source": [],
      "metadata": {
        "id": "6VmSyyfSXjX1"
      }
    },
    {
      "cell_type": "markdown",
      "source": [
        "## 実行状態は？どこを実行しているのか？\n",
        "\n",
        "### ステータス表示部の確認\n",
        "\n",
        "現在、実行中なのかどうかを知るには、コード上部のステータス表示部を確認する\n",
        "\n",
        "また、実行中の場合、実行しているセルにジャンプすることができる\n",
        "\n",
        "- 接続されておらず、初期状態は次の通り、なお、再接続と表示されている場合もある\n",
        "  - この状態では課金されない\n",
        "\n",
        "![image.png](data:image/png;base64,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)\n",
        "\n",
        "- 接続中の状態\n",
        "  - 実行するなどすると接続中に移行する\n",
        "\n",
        "![image.png](data:image/png;base64,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)\n",
        "\n",
        "- 実行中\n",
        "  - 実行中を示す、…アイコンをクリックすると、実行中のセルにジャンプする\n",
        "  - エラーが発生した場合、チェックマーク✓になっているが、このチェックマークをダブルクリックすることで、エラー発生個所にジャンプできる\n",
        "\n",
        "\n",
        "![image.png](data:image/png;base64,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)\n",
        "\n",
        "### ブラウザアイコンの色で確認\n",
        "\n",
        "Google Colaboratoryのアイコンの色をみると状態がわかるようになっている\n",
        "\n",
        "- 計算実行中に放置する場合は、アイコンの色を見て状況を察することができる\n",
        "\n",
        "![image.png](data:image/png;base64,iVBORw0KGgoAAAANSUhEUgAAACEAAAAcCAYAAADvANYcAAAEWElEQVRIie2WS2hcVRjHf985987cmUwmTZMYUttU+6BKK5aWboyUgi3ornTlzqVQulPBlSJSF4JSEMWVUF1LRQTFjVCaKlK12AaNJm0IiWmaR5vMI3Mf5xwXdzKTNpNHF1IKfnC5lzv/e/6/Od/jXhn+66bjIYd62ADwaEK49HDrZNC5zekeGMLZ+oWkh0h6734TZ9PfNtLdF9765i5dSBQ4izbzOGexugNUtrXOhnjmDs45jO4EHWz4H9eGqC+swmkKd78iV76EF08DBqu7qBUOUe44SZzfByJ4tZsU7l4gKP2EZ2ZTCL+bsO0I5c5TxMGeNa2kZYvWAYLSRXqm3iOIhhEBuyIrSkFNtnHryfN44SjdU+8SmMnG41DPDBDqPuYfe53S1lPNXVsRrWtCBDV+meLgm2TDYRI0zoLyQOm6iYJa8DTZ8hV6J94gMJNExiNKmpkxBiKj0MkUhV/ewf/721UAa6ejMkP+53Mwe5eFqJ22/gql4vNU24/iJENQ/pEgHKJaOE7H3Of4qkQY+/gSE0mBhdwhrNeFt3SDTDhEZSJPPBYTzH6E7X0GU9y+MUR29Du8meuEaNQtx+ye01R2ncGRFmO562V0OEnhzgXyyR9ExsdXMTV/L3N9b1Ntfw4RQewSubEv8Cc+QRD8hTH84a8xR05vnA5v7Ae0UnjKEncfoLzndApQbzcnWZLsToLqVUSnbWikndltb7FUHEDqW+5UjuqOVzDd+/EkARTe+MVVfi0h9OI4xjmUQNJ3GDK5+gxoylU8h0pmsAn4GUMlOEDYdoR7hpRz4GexW3ahRdI1y1Obg0gXIJ03+r5SXxFS14kAXicOTWNIAa4O42qLLLegE705iKS4Ay2CtaAnf8OFS+nijckJ1uvEeD0o7Uhi8GujKLfQ3AHnEKVQt4fwp34ltuCJYDuf2ByE6T+GwWKcJnP7GoWRT4E4TYcImAgvniTMHcQ5sE4TRCPkR89DWKr3qKCnfyd/6SyZaA6nNBZHvPOFVX4tuyPa+xKZkW8IZoeQbR7F+GMKN65RLRzFqQxBZZBc7Tp3ul6l4j1FQf3J4kQBffMzCp2D2K59SLiIvnUVP5onxiMvhnLvQZK9L67yaz0xAT0+yNah1+jYPo0RjYdp1KU1oHxYyByj2nGcwtVzRCMVEqvwxKKV4IAocaAUgbLUgh7KJz7E9B3eXDpwDtM/QGngLGFmN74YpG5uzbIGstXrhLlDzOx6n6TYj6dsOt7rDZLRoJ1lqedZyic+aAmw7k4sz3gd/UPb/Jfky5fRyTQ4h/W2ELYdprzlJFF+PyBIeQJ/5Hv8ySvI0hxOBFvswz4+QLT7BC7b0fK9sT7ECpA0BzEqmUdhMboDp/OtdQBRCUSDv45mRaz/PbH8kLOgfGyml0aTOktjJqzUiYJMe9MY1+yqNWJ9iAbMcum45klalNPyvXve5WubPxhE0+We09qyjY1XxqP4tf3fxP8Qy/EvZKfwXq5bgs8AAAAASUVORK5CYII=)待機中\n",
        "\n",
        "![image.png](data:image/png;base64,iVBORw0KGgoAAAANSUhEUgAAACEAAAAYCAYAAAB0kZQKAAAECUlEQVRIic2W3W8TRxTFf3dm107WXn+FOCEhBJQK1FRIPFRF4v9/RYXSUFpVdRIC+bJj/Ln2rmemD2s7Id4Qoj7QedudM/ecvfeeOyt//tVwfOelvrcAuKOIWcqcuzl5V/e+hruziFkwmT6LCM65BRLnHCIyf74Jd315t5GLyDxYMklw1uF5PlqrTJwxlskkweHwPR+t9a0feaOIWeDRaMRps0Wn22Ecxzhn8T2fchiyurpKWCggIgwGQ06bTTrdLslkAtbi53KUwyJr9TqFILhRhGS5Yybgov2ZxuEh0Wg0fw8gAkppBHi2+yPRaETj4DAlB6xz09IJIqC1x6OHm6yv1hdKdmMmRISTkxPevPuD5SCYB9TaAxwTY/CUohAE9Po99g+PsM5hjMFZh/Y8RAlmJsoafvt9j/HOiO2HD7+tHNEw4vXeHt1ujySJKRZDquUqtVoJEcXnTpfhcMhKtcLR8SlOUkIRQXmKUljA83yiYUR/OGQw6NPpdHg7HrNSq1EsFm8XcfDxiHa7jShFf9Dn0fY2u0+foqZp3FhbI4rGnLXOieMYayxKKfK5PD88fkSlXEqb1Foa+we8enOMc47+YEDj4JBnP+1+wZdp0U/HxyitEYRapcqTnR3UFbsppQiCJXq9HkprrLOIKHYeb1OtlOc110rxeHuLWqUyd8nxyfECX6aI/qCPMwYlQv3ePXK+v9BQ4zgmTiaYyQTf9ykES5RLJZy7bGDn0qYshSGiFM45hlH0bSKAdDIJKJVCrnf0fDmHUhrf89Mjcol1zgIQx/HlwJJFykwRhaCAiMY6x1nznCRJpkEv3ZzzfXK+j/Y8kiRmOBphjJnjZmVrtS9otlpYY9BaE4bFBb5MEQ/ub2KtxTnHRfszfzcaX0xFawzRKCIsFue48WjMP/sHxHE8x7UuWrz69TVxkqTnrGVr4/4CX6Y7trY2aRzu0+31CIKAs2aLZGKoVspopWl32gyHIzbW18n7PrEI3W6Ho48f+Odgn1q5wjgZc95sMZlM0pJ5HuUwZHtrcU5kTkyATyenvH23RxAEgCAISitwYKzB830Ky0usVGvsvX9Pu32BtalV1bQJjTHp7NCanOfz8sUL6qv3vq0czjk21tf4+flzlpeWEaVAwBiDsWlgZx29/pBKWGL36RMKhWJq62naU2doQKiWyrx88UumgBvLMbs1V2o1gmCZ0/MmnU6XcRKDEzytCMOQtfoqhWJAoRhQrZT5cPSJ07NzonGEEiEIAu7X13iwuUE+n8+8N75ajllGZoestcRJMr9FPc/LxAFpIwK+79+IuTUTVzMyC6CUYimf/yLoDHMVJyLkpuRZmDuLuC7mqoDMtF4Rk3XuP4m4TdRd96+v/8Xf9r+tQhdV9CDdjwAAAABJRU5ErkJggg==)実行中\n",
        "\n",
        "![image.png](data:image/png;base64,iVBORw0KGgoAAAANSUhEUgAAACQAAAAZCAYAAABZ5IzrAAAEmklEQVRIic2XTWxUVRTHf/e+j5mUmU4rahtaBihfbbElQqIE0xAhqCtINBITY9SFMS5M3OrCuMIQoi4Eom6JG2NYoATxIxFU0IgIgoWCpTq1Q5th2um0ZZh58+5x8abTCfb1w42czSRvzrn3986553/PU31XB4S7yPT/DXCn2YuOkCChAiilQlyE6X/m8pvNFp4hY4JfpUCpYBNjqoC1fqriU+snd/qF2LwZEpFgUa0RY9CT+QAkFkNst9YxgNAavBJqMh88jtWD47LQHM0JVIUZzeL+/B1u30X02GjwxvEE5bZ1FB/qwbQkQSn0SBr3p1M4fb3oiXFEDCbRQLmtndKWbZhlrfMCqdAuq7yx8/t5YkcO46QHUQpMjbetFIXEPeRffQM9MkT9p4dxxjKAwlTiNUGAl1jK1O5nKG7ZNpPNWSz8DClF7sxphve+hZ0exLcsjICtNbZWCGApRbl1JXZ/Hw2HP8AZy1BSmlIls5YCXwRPKazxLNn39pM9cSIUBuYoWSmTIX3wfYqXr2NWNLO6KYF0dON1bsTYDm7fJcpDf+J1byZy8gvcYoGCtrB9Hy8SpbB6PX6sHj0yhJMa4NrNPP39aSIfHiC2oZNI6/LFAY19/SWFK72IZfH3UIbo7qeof/ZFxAkOstezA5W9ifvjKerSqQDG+BSbWynseQGvvSvoslKRwtEjDLz7DqItSqkU2WOfs+zlV2bdN7RkuVPfogBLDNHODUT2PIc4LlJpdbFdzL1NOH/9ga01GIOJ1DH19PN4Hd3Vsogbwd71JNH2TmwxCDB++vuwbcOBSoMpTMUh/uAm3Lo6xBiUnglRkxOo3BglEaJAMbkSf017cGindUcE240QXdWGIhBKb/jG4oFqW892gsr+S3GnFVnA0gqWxBBtVUURCLoNMPn8TJwVrjahQJGWVrQCA4z/co5yoQBKBSWrmInF8RMNOEpx2zfo4RvYt6cqrIKIoLVm6nIvE+d/xQcsIJJMLh6ooWcbRsBoi1sXL1D45GPwvaBkSoHnobMZ/JVr8I3BWBbuSJqpo0fwJidQlWtj6tJvDO7bi4xmwbIwStH46PZQoNDcNT72BNnjx7h9uZeWZDMtZ04gkxmKHRvBdnD6LuKkrnNr5y5uLUsSHx7kWr7EtYOHcD47Tt3atZQnJ5i6cB7J5TC2jev72F3dNO58PBQoXKmBsdM/YA7sZ33CQSwL7ZvgrAiURYhoTa6jG69rMzc/OkT/lQHKSmMh1dSXRUBrHGNQ991P2959xDZtDgUKV2oRGrc+QtPrb+I3L8fyDUqBb4SygCJQYSc1gGlbj/fSa0SSK3AQtAhC0Bg2oI0h8kAXq96eG2beDE1frmo0g3vmJM7VS+jcKGIEYnHKq9ZRergHP9kGSlG6kSb3zVeMnz2Ll82itCLS1Ex8y1YS23fgNjTMXNj/BagWCkDKHnoiD2KQujhEo7P6AZQnJ0Bp7CVLQn1ms3nnoeoCxqBsB2lcOrNBzTBWha6Ipx2LVyEQQWm9oMlx4SPstELXTH61qn3ns+kJUdWI5EJs8TP1AhdfzBxda3fdV8ddB/QPYrgL1Ud/PdcAAAAASUVORK5CYII=)エラー発生"
      ],
      "metadata": {
        "id": "p8B7rCrKsa2R"
      }
    },
    {
      "cell_type": "markdown",
      "metadata": {
        "id": "LdF-TEXnS1yG"
      },
      "source": [
        "## Tips(つまり意欲的な人向け)"
      ]
    },
    {
      "cell_type": "markdown",
      "metadata": {
        "id": "WNv62MBDTBys"
      },
      "source": [
        "### 基本的な操作\n",
        "\n",
        "- 内部でUbuntsu OSが動作しており、root権限で操作できる\n",
        "  -Linuxがわかる人は基本的にやりたい放題\n",
        "- コマンドを実行したい\n",
        " - !{コマンド}\n",
        " - これで何でもできる！インストールもできる！gccやmakeも動作する！ということは、C言語やC++言語の開発もできる！\n",
        "- パッケージを導入したい\n",
        " - `!pip install torch`\n",
        " - これでないモジュールも導入できる\n",
        "- ディレクトリを変更したい（Jupyter magic commandを使う）\n",
        " - %cd {対象ディレクトリ}\n",
        "\n",
        " 以上で、基本的にはどのような付帯作業もできるはず"
      ]
    },
    {
      "cell_type": "markdown",
      "metadata": {
        "id": "TL6lLd-aTIhB"
      },
      "source": [
        "### サンプルなど外部ノートブックや保存済みノートブックを開くときは？\n",
        "\n",
        "- Googleドライブから開く\n",
        " - ノートブック(.ipynb)を選択し、開くアプリケーションとして\n",
        " - Colaboratoryを指定して開く\n",
        "- Colaboratoryから開く\n",
        " - ファイル> ノートブックを開くからGoogleドライブタブを選択\n",
        " - My Drive> Colab Notebookにあるノートブックを選択して開く\n",
        " - ドライブの共有リンクidがわかる場合は、https://colab.research.google.com/drive/{Googleドライブ共有リンクのid}で開く\n",
        "- アップロードして開く\n",
        " - ファイル> ノートブックをアップロードから、ローカルにある任意の.ipynbファイルを開く\n",
        "- WindowsなどのGoogle Driveアプリから開く\n",
        "  - Google Driveアプリを利用すると、Google Driveが普通のフォルダのように扱うことができる\n",
        "  - その中の.ipynbファイルを右クリックし、詳細オプションの中のグーグルドライブで開くを選択する\n",
        "- Wgetやgit cloneでもいける。Kaggleはkaggle-apiで取得できる\n"
      ]
    },
    {
      "cell_type": "markdown",
      "metadata": {
        "id": "Og826T39TIU9"
      },
      "source": [
        " ### ファイルを操作するには？\n",
        "\n",
        "- /content 配下のファイルを利用\n",
        " - 左のメニューを開く\n",
        " - ファイルメニューを選択\n",
        " - アップロードを選択\n",
        "\n",
        "<img src=\"http://class.west.sd.keio.ac.jp/dataai/setup/setup20.png\" width=\"40%\">\n",
        "\n",
        " - クリックでダウンロードができる\n",
        "\n",
        "- コマンドを利用\n",
        " - files をimportする  \n",
        "   from google.colab import files\n",
        " - アップロード  \n",
        "   uploaded = files.upload()  \n",
        "   により表示される ファイル選択 ボタンを押しファイルを選択\n",
        "   \n",
        "<img src=\"http://class.west.sd.keio.ac.jp/dataai/setup/setup21.png\" width=\"80%\">\n",
        "\n",
        " - ダウンロード  \n",
        "   files.download(‘{ファイル名}’)\n",
        "   とすると、ブラウザでダウンロードが開始される\n",
        "- Google Driveをマウントする\n",
        " - 次のコードでマウント（Google Driveのファイルが直接プログラムでアクセス）する  \n",
        "   from google.colab import drive  \n",
        "   drive.mount('/content/drive')\n",
        " - 確認  \n",
        "   !ls /content/drive/My Drive\n",
        " - My Drive/ 以下のファイルにcpやmvなどの通常のLinuxコマンドを用いてコピーや移動できる"
      ]
    },
    {
      "cell_type": "markdown",
      "metadata": {
        "id": "ImJcZmcNys8W"
      },
      "source": [
        "### キーボードショートカットを確認・変更する\n",
        "メニューバーから、「ツール」「キーボードショートカット」を選択すると、確認と設定画面が確認できる。役立つ機能が多いため慣れておくと良い。なお、Jupyter Notebookとの違いは、基本的にCtrl-Mを入力してからショートカットキーを入れるという仕組みにある。\n",
        "\n",
        "Jupyter Notebookでは、コマンドモード、コードモードを切り替えるviのような仕様であるが、これらを統合するための変更となっている。\n",
        "\n",
        "また、コードスニペットにより、テンプレートとなるコードを貼り付け、実行させることができる。自分で追加もできる。ただし、Colaboratoryを開いたあとに、「ツール」「設定」からCustom snippet notebook URLで自分が作成したスニペット用のページのURLを張り付ける必要がある。\n",
        "\n"
      ]
    },
    {
      "cell_type": "markdown",
      "metadata": {
        "id": "-q26EryoYVBC"
      },
      "source": [
        "### 主なショートカットキー\n",
        "- ［Enter］キー: テキストセルを編集\n",
        "- ［Alt］＋［Enter］キー： セルを実行して、新しいコードセルを挿入\n",
        "- ［Shift］＋［Enter］キー： セルを実行して、次のコードセルを選択\n",
        "- ［⌘/Ctrl］＋［Enter］キー： 現在のセルを実行\n",
        "- ［⌘/Ctrl］＋［M］ ［M］： テキストセルに変換\n",
        "- ［⌘/Ctrl］＋［M］ ［Y］： コードセルに変換\n",
        "- ［⌘/Ctrl］＋［S］： ノートブックを保存\n",
        "- ［⌘/Ctrl］＋［F8］ ： 以前のセルをすべて実行\n",
        "- ［⌘/Ctrl］＋［F10］ ： 以前のセルをすべて実行"
      ]
    },
    {
      "cell_type": "markdown",
      "metadata": {
        "id": "XLj1scYkTW8f"
      },
      "source": [
        "### 同時に複数notebookを使い分ける\n",
        "\n",
        "- 同じランタイム条件で複数タブを開くと同時に起動しているインスタンスは1つ\n",
        " - 正確には、Googleアカウント1つにつき、下記2つまで同時に起動する  \n",
        "   GPUありインスタンスを1つ  \n",
        "   GPUなしインスタンスを1つ\n",
        " - 1つのNotebookが学習で占有されていても、他のNotebookを起動すれば操作できる\n",
        "\n",
        "- 自前でやりたい！という人\n",
        "  - 自宅に、それなりに最新のnvidia GPUを搭載したPCがあれば利用できる\n",
        "  - ローカルランタイムを利用すると時間制限を含めて全て解決する\n",
        "    - 詳細は、LMSのディスカッションで\n",
        "    - 要するにお金と知識は全てを解決する\n",
        "\n",
        "- 夜混雑していて課題ができない！などというトラブルがないように\n",
        "  - お金がある人は解決できるが、なくても、普通に日中作業すれば問題ない\n",
        "\n"
      ]
    },
    {
      "cell_type": "markdown",
      "metadata": {
        "id": "79RgTxMTTIel"
      },
      "source": [
        "### 仕様リソースを確認するには？\n",
        "\n",
        "- ディスクは df コマンドで確認\n",
        " - `!df -h`\n",
        "- メインメモリは7割程度を超えるとColabのダイアログで警告される\n",
        " - Freeコマンドで確認  \n",
        "   `!free -h`\n",
        "- GPUメモリは、 nvidia-smi で確認\n",
        " - `!nvidia-smi`  \n",
        "   一度にメモリ上の画像のarrayを展開するといった使い方は避ける\n",
        " - ディスク節約はファイルの操作やGoogle Driveマウントをうまく活用する\n",
        "- 残り時間の確認方法\n",
        " - `!cat /proc/uptime | awk '{print $1 /60 /60 /24 “days (” $1 “sec)”}'`  \n",
        "   などとして確認\n",
        " - 0.5daysを超えると再起動"
      ]
    },
    {
      "cell_type": "markdown",
      "metadata": {
        "id": "yG7P602bTISZ"
      },
      "source": [
        "### ファイルの編集・退避・再利用\n",
        "\n",
        "- notebookの中で作成したpythonコードを別途保存する、もしくは編集するには？\n",
        " - セルにあるファイルを保存する  \n",
        "   %%writefile nantoka-new.py  \n",
        "   {編集した nantoka.py の内容}  \n",
        "   などとして保存する\n",
        "- nantoka.pyを読み込む  \n",
        "  まず、!cat nantoka.py として表示させる  \n",
        "  出力セルからコピーして新規セルに貼り付け編集する\n",
        "- さらに実行してみたい場合は?\n",
        " - %run xxx.py とすればよい\n",
        "- Google Driveへコピーして退避・再利用する\n",
        " - 退避用のdirectory作成（あると便利） !mkdir drive/<指定のフォルダ>\n",
        " - ファイルをdriveへコピー !cp xxx drive/<指定のフォルダ> これで退避終了\n",
        " - 再利用する場合は、!cp drive/My Drive/<指定フォルダ>/<指定ファイル等> .  \n",
        " （最後にピリオドがある。この場所へという意味）\n",
        " - さらにファイルサイズを削減したいときは、圧縮するとよい"
      ]
    },
    {
      "cell_type": "markdown",
      "metadata": {
        "id": "dluIQ_w5TICd"
      },
      "source": [
        "### モデル保存先をGoogle Driveにする\n",
        "\n",
        "- 逐次モデルを保存すれば12hr以上の学習や突然のshutdownでも問題ない\n",
        " - そういうことはないはず\n",
        "- 授業のなかでPyTorchのモデルを保存するコードがでてきますので、そちらを参考に"
      ]
    },
    {
      "cell_type": "markdown",
      "metadata": {
        "id": "xiw5D3keS4l_"
      },
      "source": [
        "## Cheat Sheet\n",
        "\n",
        "<img src=\"http://class.west.sd.keio.ac.jp/dataai/setup/setup8.png\" width=\"100%\">\n",
        "\n",
        "<img src=\"http://class.west.sd.keio.ac.jp/dataai/setup/setup9.png\" width=\"100%\">"
      ]
    },
    {
      "cell_type": "markdown",
      "metadata": {
        "id": "vlRYZdGA4q8H"
      },
      "source": [
        "## 最後に\n",
        "\n",
        "記述に関するチートシートは、[こちら](https://colab.research.google.com/github/Tanu-N-Prabhu/Python/blob/master/Cheat_sheet_for_Google_Colab.ipynb)にあるので参考にするとよい\n",
        "\n",
        "[SEEDBANK](https://research.google.com/seedbank/)を利用すると、様々な機械学習に関連するGoogle提供のサンプルコード集にアクセスできる。自習でよいひと、授業が簡単すぎるという人は、こちらをトライしてみると良い。\n",
        "\n",
        "そして何よりも、Kaggleは最高の学び舎。ただし、KaggleもColaboratoryでトップが取れるほど甘くはないが。。。"
      ]
    },
    {
      "cell_type": "markdown",
      "metadata": {
        "id": "AqABwLua5yaD"
      },
      "source": [
        "# 課題(ノートブックを扱う)\n",
        "\n",
        "## pythonの復習\n",
        "\n",
        "pythonについては「ＤataＡI課題1-python復習.ipynb」\n",
        "\n",
        "を用いて基本事項を復習しておくとよい\n",
        "\n",
        "## Colaboratoryの操作\n",
        "\n",
        "次の動作をColaboratoryを用いて確認しなさい\n",
        "- テキストの編集\n",
        "- 章や節の設定及びアイテマイズ環境\n",
        "- 数式入力（テキスト内での数式）\n",
        "- 数式入力と演算結果の表示（pythonコードとしての数式と実行結果表示）\n",
        "- 画像の貼り付け\n",
        "\n",
        "以上の動作について確認した内容をPDFとして提出しなさい\n",
        "- どのような形であっても、これらが順に記述されていればよい\n",
        "- ２ページまでに抑えること\n",
        "\n",
        "## 全課題に共通する注意事項\n",
        "- 最初に、テキスト番号、課題名、番号、氏名を記載すること  \n",
        "例：テキスト1 章末課題 87654321 出田 英藍\n",
        "\n",
        "- 課題を行う場合や、自分で実験する場合、メモを取得する場合などは、左上の**ファイルメニュー**から、**「ドライブにコピーを保存」**を選び、改めてそのコピーを開いて行うことを推奨する\n",
        "\n",
        "- 直接このシートを変更すると、**誤った内容で問題を解いたり**、元の内容が不明となる恐れがあるため、新たにノートブックを作成し、そこにコピー・ペーストすることを推奨する\n",
        "\n",
        "- 提出はPDFファイルを基本とし、必要に応じてノートブックファイル(.ipynb)も提出する\n",
        "\n",
        "- 記述において、技術的な観点での妥協や遠慮は必要はない。どの様な高度な仕組みを用いようと、例えばある関数を利用すると一発で終わるといったチート手段を用いようと構わない、知識は力\n"
      ]
    }
  ]
}